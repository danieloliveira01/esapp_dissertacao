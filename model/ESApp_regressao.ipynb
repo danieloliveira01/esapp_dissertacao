{
 "cells": [
  {
   "cell_type": "markdown",
   "metadata": {},
   "source": [
    "### Importando Bibliotecas"
   ]
  },
  {
   "cell_type": "code",
   "execution_count": 1,
   "metadata": {},
   "outputs": [
    {
     "name": "stderr",
     "output_type": "stream",
     "text": [
      "2025-05-17 15:00:19.100682: I tensorflow/core/util/port.cc:153] oneDNN custom operations are on. You may see slightly different numerical results due to floating-point round-off errors from different computation orders. To turn them off, set the environment variable `TF_ENABLE_ONEDNN_OPTS=0`.\n",
      "2025-05-17 15:00:19.130017: E external/local_xla/xla/stream_executor/cuda/cuda_fft.cc:485] Unable to register cuFFT factory: Attempting to register factory for plugin cuFFT when one has already been registered\n",
      "2025-05-17 15:00:19.164696: E external/local_xla/xla/stream_executor/cuda/cuda_dnn.cc:8454] Unable to register cuDNN factory: Attempting to register factory for plugin cuDNN when one has already been registered\n",
      "2025-05-17 15:00:19.174471: E external/local_xla/xla/stream_executor/cuda/cuda_blas.cc:1452] Unable to register cuBLAS factory: Attempting to register factory for plugin cuBLAS when one has already been registered\n",
      "2025-05-17 15:00:19.198434: I tensorflow/core/platform/cpu_feature_guard.cc:210] This TensorFlow binary is optimized to use available CPU instructions in performance-critical operations.\n",
      "To enable the following instructions: AVX2 AVX512F AVX512_VNNI FMA, in other operations, rebuild TensorFlow with the appropriate compiler flags.\n",
      "2025-05-17 15:00:20.979556: W tensorflow/compiler/tf2tensorrt/utils/py_utils.cc:38] TF-TRT Warning: Could not find TensorRT\n"
     ]
    }
   ],
   "source": [
    "#importando bibliotecas\n",
    "import pandas as pd\n",
    "import numpy as np\n",
    "from tensorflow import keras\n",
    "from sklearn.utils import shuffle\n",
    "#from keras.preprocessing.text import Tokenizer\n",
    "#from keras.preprocessing.sequence import pad_sequences\n",
    "\n",
    "from tensorflow.keras.preprocessing.text import Tokenizer\n",
    "from tensorflow.keras.preprocessing.sequence import pad_sequences\n",
    "from keras.models import Sequential\n",
    "from keras.layers import Dense, Embedding, LSTM,Bidirectional,Dropout\n",
    "from keras.layers import AveragePooling1D\n",
    "from keras.models import load_model\n",
    "from keras.callbacks import EarlyStopping\n",
    "from keras.optimizers import Adam, RMSprop\n",
    "from numpy import array\n",
    "from numpy import asarray\n",
    "from numpy import zeros\n",
    "from keras.layers import Flatten\n",
    "from sklearn.model_selection import train_test_split\n",
    "from sklearn.metrics import classification_report, confusion_matrix, accuracy_score\n",
    "from sklearn import preprocessing\n",
    "from sklearn.metrics import * \n",
    "from sklearn.model_selection import KFold \n",
    "import os\n",
    "import matplotlib.pyplot as plt\n",
    "import seaborn as sns"
   ]
  },
  {
   "cell_type": "markdown",
   "metadata": {},
   "source": []
  },
  {
   "cell_type": "markdown",
   "metadata": {},
   "source": [
    "### Carregando Dados"
   ]
  },
  {
   "cell_type": "code",
   "execution_count": 2,
   "metadata": {},
   "outputs": [],
   "source": [
    "df = pd.read_csv('data/reqTxt.csv', header=None) #Report or file containing the set of training and test texts."
   ]
  },
  {
   "cell_type": "code",
   "execution_count": 3,
   "metadata": {},
   "outputs": [],
   "source": [
    "dfRequire = df.iloc[:,:] "
   ]
  },
  {
   "cell_type": "code",
   "execution_count": 4,
   "metadata": {},
   "outputs": [
    {
     "name": "stdout",
     "output_type": "stream",
     "text": [
      "(23313, 1)\n",
      "Index([0], dtype='int64')\n",
      "add ca against object literals in function invocationsthe idea here is that if our metadata captures a type as function arg we should be able to create an instance of that type as an object literal as an arg to a function invocation for examplep    tiuicreatelabel  ltpropertycaheregt  code prediv\n",
      "23313\n",
      "Train and test dataset loaded...\n"
     ]
    }
   ],
   "source": [
    "print(dfRequire.shape)\n",
    "print(dfRequire.columns)\n",
    "X = dfRequire[0]\n",
    "print(X[0])\n",
    "X = np.array(X)\n",
    "\n",
    "print(len(X))\n",
    "\n",
    "print('Train and test dataset loaded...')"
   ]
  },
  {
   "cell_type": "code",
   "execution_count": 5,
   "metadata": {},
   "outputs": [
    {
     "data": {
      "text/plain": [
       "array(['add ca against object literals in function invocationsthe idea here is that if our metadata captures a type as function arg we should be able to create an instance of that type as an object literal as an arg to a function invocation for examplep    tiuicreatelabel  ltpropertycaheregt  code prediv',\n",
       "       'update branding for appcelerator plugin to appcelerator logoat least fix feature icons associated natures perhaps other screens as wellpdiv',\n",
       "       'create new json schema for sdk teamcreate json schema containing properties required for proper ca hand schema to platform team to output new docsjson files as part of new sdk releases it may be that instead we can use the vsdoc format in which case we will need to indicate to the sdk team additional items to be added to the docspdiv',\n",
       "       ...,\n",
       "       'proof of concept use akka for unique value enforcementby using an distributed actor system we can ensure that only one thread accesses any one unique value at a time i have a working proof of concept of this that writes to cassandra via java native driver    initial design is here  httpsdocsgooglecomdocumentdookfgnbcryeiczmhijhxevbxhydiuibqklguedit    proof of concept poc code is here  httpsgithubcomsnoopdaveakkapoc    presentation that explains the poc is here  httpsdocsgooglecompresentationdarspziaxoystojcmednzxvogvgngslznmvtlozjyedituspsharing',\n",
       "       'set a property to turn off usergrids dependency on elasticsearchhave a property that can tell usergrid whether we want to use elasticsearch or not if we dont we shouldnt have any errors should just work as is with only graph searches',\n",
       "       'allow usergridapiurlbase to be set when creating organizationsallowing usergridapiurlbase this field to be set or set differently so it is not forgotten when you are running usergrid'],\n",
       "      dtype=object)"
      ]
     },
     "execution_count": 5,
     "metadata": {},
     "output_type": "execute_result"
    }
   ],
   "source": [
    "X"
   ]
  },
  {
   "cell_type": "code",
   "execution_count": 6,
   "metadata": {},
   "outputs": [
    {
     "name": "stdout",
     "output_type": "stream",
     "text": [
      "Shape of label tensor: (23313, 1)\n",
      "int64\n",
      "KFold(n_splits=10, random_state=1000, shuffle=True)\n"
     ]
    }
   ],
   "source": [
    "y = pd.read_csv('data/estiDeep.data', header=None) #File containing the set of training and test labels.\n",
    "y = np.array(y)\n",
    "print ('Shape of label tensor:', y.shape)\n",
    "print(y.dtype)\n",
    "\n",
    "#Number of texts in train and test dataset \n",
    "MAX_LEN = 23313\n",
    "\n",
    "kf = KFold(n_splits=10, shuffle=True, random_state=1000) \n",
    "kf.get_n_splits(X) # returns the number of splitting iterations in the cross-validator\n",
    "print(kf) \n"
   ]
  },
  {
   "cell_type": "markdown",
   "metadata": {},
   "source": [
    "### Carregando Embeddings ja convertidos\n",
    "O arquivo Convert embeddings mostra a conversão da base de requisitos em embeddings"
   ]
  },
  {
   "cell_type": "code",
   "execution_count": 7,
   "metadata": {},
   "outputs": [
    {
     "name": "stdout",
     "output_type": "stream",
     "text": [
      "Embedding mat: (23313, 768)\n"
     ]
    }
   ],
   "source": [
    "#pret_model = pd.read_csv('embeddings_finetuned_FastText.csv', delimiter= ',', header=None) #insert embedding \n",
    "pret_model = pd.read_csv('embeddings/embeddings_xlnet.csv', delimiter= ',', header=None) #insert embedding \n",
    "\n",
    "embedding_matrix = pret_model.iloc[0:23313,:] \n",
    "dfEmbedding_mat = pd.DataFrame(embedding_matrix)\n",
    "embedding_mat = dfEmbedding_mat.fillna('0') \n",
    "\n",
    "print('Embedding mat: ' + str(embedding_mat.shape))\n",
    "\n",
    "i = 0"
   ]
  },
  {
   "cell_type": "markdown",
   "metadata": {},
   "source": [
    "### Model \n"
   ]
  },
  {
   "cell_type": "code",
   "execution_count": null,
   "metadata": {},
   "outputs": [
    {
     "name": "stdout",
     "output_type": "stream",
     "text": [
      "Vocab_size: 89803\n",
      "Shape of data tensor: (20981, 100)\n",
      "Shape of data test tensor: (2332, 100)\n"
     ]
    },
    {
     "name": "stderr",
     "output_type": "stream",
     "text": [
      "/home/daniel/mestrado/lib/python3.12/site-packages/keras/src/layers/core/embedding.py:90: UserWarning: Argument `input_length` is deprecated. Just remove it.\n",
      "  warnings.warn(\n",
      "2025-05-17 15:02:19.288728: E external/local_xla/xla/stream_executor/cuda/cuda_driver.cc:266] failed call to cuInit: CUDA_ERROR_UNKNOWN: unknown error\n",
      "2025-05-17 15:02:19.288774: I external/local_xla/xla/stream_executor/cuda/cuda_diagnostics.cc:135] retrieving CUDA diagnostic information for host: daniel-Predator-PH315-54\n",
      "2025-05-17 15:02:19.288785: I external/local_xla/xla/stream_executor/cuda/cuda_diagnostics.cc:142] hostname: daniel-Predator-PH315-54\n",
      "2025-05-17 15:02:19.289022: I external/local_xla/xla/stream_executor/cuda/cuda_diagnostics.cc:166] libcuda reported version is: 550.144.3\n",
      "2025-05-17 15:02:19.289060: I external/local_xla/xla/stream_executor/cuda/cuda_diagnostics.cc:170] kernel reported version is: 550.144.3\n",
      "2025-05-17 15:02:19.289069: I external/local_xla/xla/stream_executor/cuda/cuda_diagnostics.cc:249] kernel version seems to match DSO: 550.144.3\n"
     ]
    },
    {
     "data": {
      "text/html": [
       "<pre style=\"white-space:pre;overflow-x:auto;line-height:normal;font-family:Menlo,'DejaVu Sans Mono',consolas,'Courier New',monospace\"><span style=\"font-weight: bold\">Model: \"sequential\"</span>\n",
       "</pre>\n"
      ],
      "text/plain": [
       "\u001b[1mModel: \"sequential\"\u001b[0m\n"
      ]
     },
     "metadata": {},
     "output_type": "display_data"
    },
    {
     "data": {
      "text/html": [
       "<pre style=\"white-space:pre;overflow-x:auto;line-height:normal;font-family:Menlo,'DejaVu Sans Mono',consolas,'Courier New',monospace\">┏━━━━━━━━━━━━━━━━━━━━━━━━━━━━━━━━━┳━━━━━━━━━━━━━━━━━━━━━━━━┳━━━━━━━━━━━━━━━┓\n",
       "┃<span style=\"font-weight: bold\"> Layer (type)                    </span>┃<span style=\"font-weight: bold\"> Output Shape           </span>┃<span style=\"font-weight: bold\">       Param # </span>┃\n",
       "┡━━━━━━━━━━━━━━━━━━━━━━━━━━━━━━━━━╇━━━━━━━━━━━━━━━━━━━━━━━━╇━━━━━━━━━━━━━━━┩\n",
       "│ embedding (<span style=\"color: #0087ff; text-decoration-color: #0087ff\">Embedding</span>)           │ (<span style=\"color: #00d7ff; text-decoration-color: #00d7ff\">None</span>, <span style=\"color: #00af00; text-decoration-color: #00af00\">768</span>)            │    <span style=\"color: #00af00; text-decoration-color: #00af00\">17,904,384</span> │\n",
       "├─────────────────────────────────┼────────────────────────┼───────────────┤\n",
       "│ average_pooling1d               │ ?                      │             <span style=\"color: #00af00; text-decoration-color: #00af00\">0</span> │\n",
       "│ (<span style=\"color: #0087ff; text-decoration-color: #0087ff\">AveragePooling1D</span>)              │                        │               │\n",
       "├─────────────────────────────────┼────────────────────────┼───────────────┤\n",
       "│ lstm (<span style=\"color: #0087ff; text-decoration-color: #0087ff\">LSTM</span>)                     │ ?                      │   <span style=\"color: #00af00; text-decoration-color: #00af00\">0</span> (unbuilt) │\n",
       "├─────────────────────────────────┼────────────────────────┼───────────────┤\n",
       "│ dense (<span style=\"color: #0087ff; text-decoration-color: #0087ff\">Dense</span>)                   │ ?                      │   <span style=\"color: #00af00; text-decoration-color: #00af00\">0</span> (unbuilt) │\n",
       "├─────────────────────────────────┼────────────────────────┼───────────────┤\n",
       "│ dense_1 (<span style=\"color: #0087ff; text-decoration-color: #0087ff\">Dense</span>)                 │ ?                      │   <span style=\"color: #00af00; text-decoration-color: #00af00\">0</span> (unbuilt) │\n",
       "├─────────────────────────────────┼────────────────────────┼───────────────┤\n",
       "│ dense_2 (<span style=\"color: #0087ff; text-decoration-color: #0087ff\">Dense</span>)                 │ ?                      │   <span style=\"color: #00af00; text-decoration-color: #00af00\">0</span> (unbuilt) │\n",
       "└─────────────────────────────────┴────────────────────────┴───────────────┘\n",
       "</pre>\n"
      ],
      "text/plain": [
       "┏━━━━━━━━━━━━━━━━━━━━━━━━━━━━━━━━━┳━━━━━━━━━━━━━━━━━━━━━━━━┳━━━━━━━━━━━━━━━┓\n",
       "┃\u001b[1m \u001b[0m\u001b[1mLayer (type)                   \u001b[0m\u001b[1m \u001b[0m┃\u001b[1m \u001b[0m\u001b[1mOutput Shape          \u001b[0m\u001b[1m \u001b[0m┃\u001b[1m \u001b[0m\u001b[1m      Param #\u001b[0m\u001b[1m \u001b[0m┃\n",
       "┡━━━━━━━━━━━━━━━━━━━━━━━━━━━━━━━━━╇━━━━━━━━━━━━━━━━━━━━━━━━╇━━━━━━━━━━━━━━━┩\n",
       "│ embedding (\u001b[38;5;33mEmbedding\u001b[0m)           │ (\u001b[38;5;45mNone\u001b[0m, \u001b[38;5;34m768\u001b[0m)            │    \u001b[38;5;34m17,904,384\u001b[0m │\n",
       "├─────────────────────────────────┼────────────────────────┼───────────────┤\n",
       "│ average_pooling1d               │ ?                      │             \u001b[38;5;34m0\u001b[0m │\n",
       "│ (\u001b[38;5;33mAveragePooling1D\u001b[0m)              │                        │               │\n",
       "├─────────────────────────────────┼────────────────────────┼───────────────┤\n",
       "│ lstm (\u001b[38;5;33mLSTM\u001b[0m)                     │ ?                      │   \u001b[38;5;34m0\u001b[0m (unbuilt) │\n",
       "├─────────────────────────────────┼────────────────────────┼───────────────┤\n",
       "│ dense (\u001b[38;5;33mDense\u001b[0m)                   │ ?                      │   \u001b[38;5;34m0\u001b[0m (unbuilt) │\n",
       "├─────────────────────────────────┼────────────────────────┼───────────────┤\n",
       "│ dense_1 (\u001b[38;5;33mDense\u001b[0m)                 │ ?                      │   \u001b[38;5;34m0\u001b[0m (unbuilt) │\n",
       "├─────────────────────────────────┼────────────────────────┼───────────────┤\n",
       "│ dense_2 (\u001b[38;5;33mDense\u001b[0m)                 │ ?                      │   \u001b[38;5;34m0\u001b[0m (unbuilt) │\n",
       "└─────────────────────────────────┴────────────────────────┴───────────────┘\n"
      ]
     },
     "metadata": {},
     "output_type": "display_data"
    },
    {
     "data": {
      "text/html": [
       "<pre style=\"white-space:pre;overflow-x:auto;line-height:normal;font-family:Menlo,'DejaVu Sans Mono',consolas,'Courier New',monospace\"><span style=\"font-weight: bold\"> Total params: </span><span style=\"color: #00af00; text-decoration-color: #00af00\">17,904,384</span> (68.30 MB)\n",
       "</pre>\n"
      ],
      "text/plain": [
       "\u001b[1m Total params: \u001b[0m\u001b[38;5;34m17,904,384\u001b[0m (68.30 MB)\n"
      ]
     },
     "metadata": {},
     "output_type": "display_data"
    },
    {
     "data": {
      "text/html": [
       "<pre style=\"white-space:pre;overflow-x:auto;line-height:normal;font-family:Menlo,'DejaVu Sans Mono',consolas,'Courier New',monospace\"><span style=\"font-weight: bold\"> Trainable params: </span><span style=\"color: #00af00; text-decoration-color: #00af00\">17,904,384</span> (68.30 MB)\n",
       "</pre>\n"
      ],
      "text/plain": [
       "\u001b[1m Trainable params: \u001b[0m\u001b[38;5;34m17,904,384\u001b[0m (68.30 MB)\n"
      ]
     },
     "metadata": {},
     "output_type": "display_data"
    },
    {
     "data": {
      "text/html": [
       "<pre style=\"white-space:pre;overflow-x:auto;line-height:normal;font-family:Menlo,'DejaVu Sans Mono',consolas,'Courier New',monospace\"><span style=\"font-weight: bold\"> Non-trainable params: </span><span style=\"color: #00af00; text-decoration-color: #00af00\">0</span> (0.00 B)\n",
       "</pre>\n"
      ],
      "text/plain": [
       "\u001b[1m Non-trainable params: \u001b[0m\u001b[38;5;34m0\u001b[0m (0.00 B)\n"
      ]
     },
     "metadata": {},
     "output_type": "display_data"
    },
    {
     "name": "stdout",
     "output_type": "stream",
     "text": [
      "Epoch 1/30\n",
      "\u001b[1m164/164\u001b[0m \u001b[32m━━━━━━━━━━━━━━━━━━━━\u001b[0m\u001b[37m\u001b[0m \u001b[1m25s\u001b[0m 122ms/step - loss: 105.6898 - mae: 4.8702 - val_loss: 93.9284 - val_mae: 4.5020\n",
      "Epoch 2/30\n",
      "\u001b[1m164/164\u001b[0m \u001b[32m━━━━━━━━━━━━━━━━━━━━\u001b[0m\u001b[37m\u001b[0m \u001b[1m20s\u001b[0m 119ms/step - loss: 105.2932 - mae: 4.8419 - val_loss: 93.8620 - val_mae: 4.8101\n",
      "Epoch 3/30\n",
      "\u001b[1m164/164\u001b[0m \u001b[32m━━━━━━━━━━━━━━━━━━━━\u001b[0m\u001b[37m\u001b[0m \u001b[1m20s\u001b[0m 119ms/step - loss: 105.9339 - mae: 4.9073 - val_loss: 93.7871 - val_mae: 4.5732\n",
      "Epoch 4/30\n",
      "\u001b[1m 63/164\u001b[0m \u001b[32m━━━━━━━\u001b[0m\u001b[37m━━━━━━━━━━━━━\u001b[0m \u001b[1m11s\u001b[0m 118ms/step - loss: 88.0678 - mae: 4.5036"
     ]
    },
    {
     "ename": "KeyboardInterrupt",
     "evalue": "",
     "output_type": "error",
     "traceback": [
      "\u001b[0;31m---------------------------------------------------------------------------\u001b[0m",
      "\u001b[0;31mKeyboardInterrupt\u001b[0m                         Traceback (most recent call last)",
      "Cell \u001b[0;32mIn[8], line 61\u001b[0m\n\u001b[1;32m     57\u001b[0m model\u001b[38;5;241m.\u001b[39msummary()\n\u001b[1;32m     59\u001b[0m es \u001b[38;5;241m=\u001b[39m EarlyStopping(monitor\u001b[38;5;241m=\u001b[39m\u001b[38;5;124m'\u001b[39m\u001b[38;5;124mval_mae\u001b[39m\u001b[38;5;124m'\u001b[39m, mode\u001b[38;5;241m=\u001b[39m\u001b[38;5;124m'\u001b[39m\u001b[38;5;124mmin\u001b[39m\u001b[38;5;124m'\u001b[39m, verbose\u001b[38;5;241m=\u001b[39m\u001b[38;5;241m1\u001b[39m, patience\u001b[38;5;241m=\u001b[39m\u001b[38;5;241m10\u001b[39m, restore_best_weights\u001b[38;5;241m=\u001b[39m\u001b[38;5;28;01mTrue\u001b[39;00m)\n\u001b[0;32m---> 61\u001b[0m model_history \u001b[38;5;241m=\u001b[39m \u001b[43mmodel\u001b[49m\u001b[38;5;241;43m.\u001b[39;49m\u001b[43mfit\u001b[49m\u001b[43m(\u001b[49m\u001b[43mx_train\u001b[49m\u001b[43m,\u001b[49m\u001b[43m \u001b[49m\u001b[43mtrain_y\u001b[49m\u001b[43m,\u001b[49m\n\u001b[1;32m     62\u001b[0m \u001b[43m          \u001b[49m\u001b[43mbatch_size\u001b[49m\u001b[38;5;241;43m=\u001b[39;49m\u001b[38;5;241;43m128\u001b[39;49m\u001b[43m,\u001b[49m\n\u001b[1;32m     63\u001b[0m \u001b[43m          \u001b[49m\u001b[43mepochs\u001b[49m\u001b[38;5;241;43m=\u001b[39;49m\u001b[38;5;241;43m30\u001b[39;49m\u001b[43m,\u001b[49m\u001b[43m \u001b[49m\u001b[43mcallbacks\u001b[49m\u001b[38;5;241;43m=\u001b[39;49m\u001b[43m[\u001b[49m\u001b[43mes\u001b[49m\u001b[43m]\u001b[49m\u001b[43m,\u001b[49m\n\u001b[1;32m     64\u001b[0m \u001b[43m          \u001b[49m\u001b[43mvalidation_data\u001b[49m\u001b[38;5;241;43m=\u001b[39;49m\u001b[43m(\u001b[49m\u001b[43mx_test\u001b[49m\u001b[43m,\u001b[49m\u001b[43m \u001b[49m\u001b[43mtest_y\u001b[49m\u001b[43m)\u001b[49m\u001b[43m)\u001b[49m                \n\u001b[1;32m     66\u001b[0m y_pred \u001b[38;5;241m=\u001b[39m model\u001b[38;5;241m.\u001b[39mpredict(x_test)\n\u001b[1;32m     68\u001b[0m \u001b[38;5;66;03m# Armazenar os resultados\u001b[39;00m\n",
      "File \u001b[0;32m~/mestrado/lib/python3.12/site-packages/keras/src/utils/traceback_utils.py:117\u001b[0m, in \u001b[0;36mfilter_traceback.<locals>.error_handler\u001b[0;34m(*args, **kwargs)\u001b[0m\n\u001b[1;32m    115\u001b[0m filtered_tb \u001b[38;5;241m=\u001b[39m \u001b[38;5;28;01mNone\u001b[39;00m\n\u001b[1;32m    116\u001b[0m \u001b[38;5;28;01mtry\u001b[39;00m:\n\u001b[0;32m--> 117\u001b[0m     \u001b[38;5;28;01mreturn\u001b[39;00m \u001b[43mfn\u001b[49m\u001b[43m(\u001b[49m\u001b[38;5;241;43m*\u001b[39;49m\u001b[43margs\u001b[49m\u001b[43m,\u001b[49m\u001b[43m \u001b[49m\u001b[38;5;241;43m*\u001b[39;49m\u001b[38;5;241;43m*\u001b[39;49m\u001b[43mkwargs\u001b[49m\u001b[43m)\u001b[49m\n\u001b[1;32m    118\u001b[0m \u001b[38;5;28;01mexcept\u001b[39;00m \u001b[38;5;167;01mException\u001b[39;00m \u001b[38;5;28;01mas\u001b[39;00m e:\n\u001b[1;32m    119\u001b[0m     filtered_tb \u001b[38;5;241m=\u001b[39m _process_traceback_frames(e\u001b[38;5;241m.\u001b[39m__traceback__)\n",
      "File \u001b[0;32m~/mestrado/lib/python3.12/site-packages/keras/src/backend/tensorflow/trainer.py:320\u001b[0m, in \u001b[0;36mTensorFlowTrainer.fit\u001b[0;34m(self, x, y, batch_size, epochs, verbose, callbacks, validation_split, validation_data, shuffle, class_weight, sample_weight, initial_epoch, steps_per_epoch, validation_steps, validation_batch_size, validation_freq)\u001b[0m\n\u001b[1;32m    318\u001b[0m \u001b[38;5;28;01mfor\u001b[39;00m step, iterator \u001b[38;5;129;01min\u001b[39;00m epoch_iterator\u001b[38;5;241m.\u001b[39menumerate_epoch():\n\u001b[1;32m    319\u001b[0m     callbacks\u001b[38;5;241m.\u001b[39mon_train_batch_begin(step)\n\u001b[0;32m--> 320\u001b[0m     logs \u001b[38;5;241m=\u001b[39m \u001b[38;5;28;43mself\u001b[39;49m\u001b[38;5;241;43m.\u001b[39;49m\u001b[43mtrain_function\u001b[49m\u001b[43m(\u001b[49m\u001b[43miterator\u001b[49m\u001b[43m)\u001b[49m\n\u001b[1;32m    321\u001b[0m     callbacks\u001b[38;5;241m.\u001b[39mon_train_batch_end(step, logs)\n\u001b[1;32m    322\u001b[0m     \u001b[38;5;28;01mif\u001b[39;00m \u001b[38;5;28mself\u001b[39m\u001b[38;5;241m.\u001b[39mstop_training:\n",
      "File \u001b[0;32m~/mestrado/lib/python3.12/site-packages/tensorflow/python/util/traceback_utils.py:150\u001b[0m, in \u001b[0;36mfilter_traceback.<locals>.error_handler\u001b[0;34m(*args, **kwargs)\u001b[0m\n\u001b[1;32m    148\u001b[0m filtered_tb \u001b[38;5;241m=\u001b[39m \u001b[38;5;28;01mNone\u001b[39;00m\n\u001b[1;32m    149\u001b[0m \u001b[38;5;28;01mtry\u001b[39;00m:\n\u001b[0;32m--> 150\u001b[0m   \u001b[38;5;28;01mreturn\u001b[39;00m \u001b[43mfn\u001b[49m\u001b[43m(\u001b[49m\u001b[38;5;241;43m*\u001b[39;49m\u001b[43margs\u001b[49m\u001b[43m,\u001b[49m\u001b[43m \u001b[49m\u001b[38;5;241;43m*\u001b[39;49m\u001b[38;5;241;43m*\u001b[39;49m\u001b[43mkwargs\u001b[49m\u001b[43m)\u001b[49m\n\u001b[1;32m    151\u001b[0m \u001b[38;5;28;01mexcept\u001b[39;00m \u001b[38;5;167;01mException\u001b[39;00m \u001b[38;5;28;01mas\u001b[39;00m e:\n\u001b[1;32m    152\u001b[0m   filtered_tb \u001b[38;5;241m=\u001b[39m _process_traceback_frames(e\u001b[38;5;241m.\u001b[39m__traceback__)\n",
      "File \u001b[0;32m~/mestrado/lib/python3.12/site-packages/tensorflow/python/eager/polymorphic_function/polymorphic_function.py:833\u001b[0m, in \u001b[0;36mFunction.__call__\u001b[0;34m(self, *args, **kwds)\u001b[0m\n\u001b[1;32m    830\u001b[0m compiler \u001b[38;5;241m=\u001b[39m \u001b[38;5;124m\"\u001b[39m\u001b[38;5;124mxla\u001b[39m\u001b[38;5;124m\"\u001b[39m \u001b[38;5;28;01mif\u001b[39;00m \u001b[38;5;28mself\u001b[39m\u001b[38;5;241m.\u001b[39m_jit_compile \u001b[38;5;28;01melse\u001b[39;00m \u001b[38;5;124m\"\u001b[39m\u001b[38;5;124mnonXla\u001b[39m\u001b[38;5;124m\"\u001b[39m\n\u001b[1;32m    832\u001b[0m \u001b[38;5;28;01mwith\u001b[39;00m OptionalXlaContext(\u001b[38;5;28mself\u001b[39m\u001b[38;5;241m.\u001b[39m_jit_compile):\n\u001b[0;32m--> 833\u001b[0m   result \u001b[38;5;241m=\u001b[39m \u001b[38;5;28;43mself\u001b[39;49m\u001b[38;5;241;43m.\u001b[39;49m\u001b[43m_call\u001b[49m\u001b[43m(\u001b[49m\u001b[38;5;241;43m*\u001b[39;49m\u001b[43margs\u001b[49m\u001b[43m,\u001b[49m\u001b[43m \u001b[49m\u001b[38;5;241;43m*\u001b[39;49m\u001b[38;5;241;43m*\u001b[39;49m\u001b[43mkwds\u001b[49m\u001b[43m)\u001b[49m\n\u001b[1;32m    835\u001b[0m new_tracing_count \u001b[38;5;241m=\u001b[39m \u001b[38;5;28mself\u001b[39m\u001b[38;5;241m.\u001b[39mexperimental_get_tracing_count()\n\u001b[1;32m    836\u001b[0m without_tracing \u001b[38;5;241m=\u001b[39m (tracing_count \u001b[38;5;241m==\u001b[39m new_tracing_count)\n",
      "File \u001b[0;32m~/mestrado/lib/python3.12/site-packages/tensorflow/python/eager/polymorphic_function/polymorphic_function.py:878\u001b[0m, in \u001b[0;36mFunction._call\u001b[0;34m(self, *args, **kwds)\u001b[0m\n\u001b[1;32m    875\u001b[0m \u001b[38;5;28mself\u001b[39m\u001b[38;5;241m.\u001b[39m_lock\u001b[38;5;241m.\u001b[39mrelease()\n\u001b[1;32m    876\u001b[0m \u001b[38;5;66;03m# In this case we have not created variables on the first call. So we can\u001b[39;00m\n\u001b[1;32m    877\u001b[0m \u001b[38;5;66;03m# run the first trace but we should fail if variables are created.\u001b[39;00m\n\u001b[0;32m--> 878\u001b[0m results \u001b[38;5;241m=\u001b[39m \u001b[43mtracing_compilation\u001b[49m\u001b[38;5;241;43m.\u001b[39;49m\u001b[43mcall_function\u001b[49m\u001b[43m(\u001b[49m\n\u001b[1;32m    879\u001b[0m \u001b[43m    \u001b[49m\u001b[43margs\u001b[49m\u001b[43m,\u001b[49m\u001b[43m \u001b[49m\u001b[43mkwds\u001b[49m\u001b[43m,\u001b[49m\u001b[43m \u001b[49m\u001b[38;5;28;43mself\u001b[39;49m\u001b[38;5;241;43m.\u001b[39;49m\u001b[43m_variable_creation_config\u001b[49m\n\u001b[1;32m    880\u001b[0m \u001b[43m\u001b[49m\u001b[43m)\u001b[49m\n\u001b[1;32m    881\u001b[0m \u001b[38;5;28;01mif\u001b[39;00m \u001b[38;5;28mself\u001b[39m\u001b[38;5;241m.\u001b[39m_created_variables:\n\u001b[1;32m    882\u001b[0m   \u001b[38;5;28;01mraise\u001b[39;00m \u001b[38;5;167;01mValueError\u001b[39;00m(\u001b[38;5;124m\"\u001b[39m\u001b[38;5;124mCreating variables on a non-first call to a function\u001b[39m\u001b[38;5;124m\"\u001b[39m\n\u001b[1;32m    883\u001b[0m                    \u001b[38;5;124m\"\u001b[39m\u001b[38;5;124m decorated with tf.function.\u001b[39m\u001b[38;5;124m\"\u001b[39m)\n",
      "File \u001b[0;32m~/mestrado/lib/python3.12/site-packages/tensorflow/python/eager/polymorphic_function/tracing_compilation.py:139\u001b[0m, in \u001b[0;36mcall_function\u001b[0;34m(args, kwargs, tracing_options)\u001b[0m\n\u001b[1;32m    137\u001b[0m bound_args \u001b[38;5;241m=\u001b[39m function\u001b[38;5;241m.\u001b[39mfunction_type\u001b[38;5;241m.\u001b[39mbind(\u001b[38;5;241m*\u001b[39margs, \u001b[38;5;241m*\u001b[39m\u001b[38;5;241m*\u001b[39mkwargs)\n\u001b[1;32m    138\u001b[0m flat_inputs \u001b[38;5;241m=\u001b[39m function\u001b[38;5;241m.\u001b[39mfunction_type\u001b[38;5;241m.\u001b[39munpack_inputs(bound_args)\n\u001b[0;32m--> 139\u001b[0m \u001b[38;5;28;01mreturn\u001b[39;00m \u001b[43mfunction\u001b[49m\u001b[38;5;241;43m.\u001b[39;49m\u001b[43m_call_flat\u001b[49m\u001b[43m(\u001b[49m\u001b[43m  \u001b[49m\u001b[38;5;66;43;03m# pylint: disable=protected-access\u001b[39;49;00m\n\u001b[1;32m    140\u001b[0m \u001b[43m    \u001b[49m\u001b[43mflat_inputs\u001b[49m\u001b[43m,\u001b[49m\u001b[43m \u001b[49m\u001b[43mcaptured_inputs\u001b[49m\u001b[38;5;241;43m=\u001b[39;49m\u001b[43mfunction\u001b[49m\u001b[38;5;241;43m.\u001b[39;49m\u001b[43mcaptured_inputs\u001b[49m\n\u001b[1;32m    141\u001b[0m \u001b[43m\u001b[49m\u001b[43m)\u001b[49m\n",
      "File \u001b[0;32m~/mestrado/lib/python3.12/site-packages/tensorflow/python/eager/polymorphic_function/concrete_function.py:1322\u001b[0m, in \u001b[0;36mConcreteFunction._call_flat\u001b[0;34m(self, tensor_inputs, captured_inputs)\u001b[0m\n\u001b[1;32m   1318\u001b[0m possible_gradient_type \u001b[38;5;241m=\u001b[39m gradients_util\u001b[38;5;241m.\u001b[39mPossibleTapeGradientTypes(args)\n\u001b[1;32m   1319\u001b[0m \u001b[38;5;28;01mif\u001b[39;00m (possible_gradient_type \u001b[38;5;241m==\u001b[39m gradients_util\u001b[38;5;241m.\u001b[39mPOSSIBLE_GRADIENT_TYPES_NONE\n\u001b[1;32m   1320\u001b[0m     \u001b[38;5;129;01mand\u001b[39;00m executing_eagerly):\n\u001b[1;32m   1321\u001b[0m   \u001b[38;5;66;03m# No tape is watching; skip to running the function.\u001b[39;00m\n\u001b[0;32m-> 1322\u001b[0m   \u001b[38;5;28;01mreturn\u001b[39;00m \u001b[38;5;28;43mself\u001b[39;49m\u001b[38;5;241;43m.\u001b[39;49m\u001b[43m_inference_function\u001b[49m\u001b[38;5;241;43m.\u001b[39;49m\u001b[43mcall_preflattened\u001b[49m\u001b[43m(\u001b[49m\u001b[43margs\u001b[49m\u001b[43m)\u001b[49m\n\u001b[1;32m   1323\u001b[0m forward_backward \u001b[38;5;241m=\u001b[39m \u001b[38;5;28mself\u001b[39m\u001b[38;5;241m.\u001b[39m_select_forward_and_backward_functions(\n\u001b[1;32m   1324\u001b[0m     args,\n\u001b[1;32m   1325\u001b[0m     possible_gradient_type,\n\u001b[1;32m   1326\u001b[0m     executing_eagerly)\n\u001b[1;32m   1327\u001b[0m forward_function, args_with_tangents \u001b[38;5;241m=\u001b[39m forward_backward\u001b[38;5;241m.\u001b[39mforward()\n",
      "File \u001b[0;32m~/mestrado/lib/python3.12/site-packages/tensorflow/python/eager/polymorphic_function/atomic_function.py:216\u001b[0m, in \u001b[0;36mAtomicFunction.call_preflattened\u001b[0;34m(self, args)\u001b[0m\n\u001b[1;32m    214\u001b[0m \u001b[38;5;28;01mdef\u001b[39;00m \u001b[38;5;21mcall_preflattened\u001b[39m(\u001b[38;5;28mself\u001b[39m, args: Sequence[core\u001b[38;5;241m.\u001b[39mTensor]) \u001b[38;5;241m-\u001b[39m\u001b[38;5;241m>\u001b[39m Any:\n\u001b[1;32m    215\u001b[0m \u001b[38;5;250m  \u001b[39m\u001b[38;5;124;03m\"\"\"Calls with flattened tensor inputs and returns the structured output.\"\"\"\u001b[39;00m\n\u001b[0;32m--> 216\u001b[0m   flat_outputs \u001b[38;5;241m=\u001b[39m \u001b[38;5;28;43mself\u001b[39;49m\u001b[38;5;241;43m.\u001b[39;49m\u001b[43mcall_flat\u001b[49m\u001b[43m(\u001b[49m\u001b[38;5;241;43m*\u001b[39;49m\u001b[43margs\u001b[49m\u001b[43m)\u001b[49m\n\u001b[1;32m    217\u001b[0m   \u001b[38;5;28;01mreturn\u001b[39;00m \u001b[38;5;28mself\u001b[39m\u001b[38;5;241m.\u001b[39mfunction_type\u001b[38;5;241m.\u001b[39mpack_output(flat_outputs)\n",
      "File \u001b[0;32m~/mestrado/lib/python3.12/site-packages/tensorflow/python/eager/polymorphic_function/atomic_function.py:251\u001b[0m, in \u001b[0;36mAtomicFunction.call_flat\u001b[0;34m(self, *args)\u001b[0m\n\u001b[1;32m    249\u001b[0m \u001b[38;5;28;01mwith\u001b[39;00m record\u001b[38;5;241m.\u001b[39mstop_recording():\n\u001b[1;32m    250\u001b[0m   \u001b[38;5;28;01mif\u001b[39;00m \u001b[38;5;28mself\u001b[39m\u001b[38;5;241m.\u001b[39m_bound_context\u001b[38;5;241m.\u001b[39mexecuting_eagerly():\n\u001b[0;32m--> 251\u001b[0m     outputs \u001b[38;5;241m=\u001b[39m \u001b[38;5;28;43mself\u001b[39;49m\u001b[38;5;241;43m.\u001b[39;49m\u001b[43m_bound_context\u001b[49m\u001b[38;5;241;43m.\u001b[39;49m\u001b[43mcall_function\u001b[49m\u001b[43m(\u001b[49m\n\u001b[1;32m    252\u001b[0m \u001b[43m        \u001b[49m\u001b[38;5;28;43mself\u001b[39;49m\u001b[38;5;241;43m.\u001b[39;49m\u001b[43mname\u001b[49m\u001b[43m,\u001b[49m\n\u001b[1;32m    253\u001b[0m \u001b[43m        \u001b[49m\u001b[38;5;28;43mlist\u001b[39;49m\u001b[43m(\u001b[49m\u001b[43margs\u001b[49m\u001b[43m)\u001b[49m\u001b[43m,\u001b[49m\n\u001b[1;32m    254\u001b[0m \u001b[43m        \u001b[49m\u001b[38;5;28;43mlen\u001b[39;49m\u001b[43m(\u001b[49m\u001b[38;5;28;43mself\u001b[39;49m\u001b[38;5;241;43m.\u001b[39;49m\u001b[43mfunction_type\u001b[49m\u001b[38;5;241;43m.\u001b[39;49m\u001b[43mflat_outputs\u001b[49m\u001b[43m)\u001b[49m\u001b[43m,\u001b[49m\n\u001b[1;32m    255\u001b[0m \u001b[43m    \u001b[49m\u001b[43m)\u001b[49m\n\u001b[1;32m    256\u001b[0m   \u001b[38;5;28;01melse\u001b[39;00m:\n\u001b[1;32m    257\u001b[0m     outputs \u001b[38;5;241m=\u001b[39m make_call_op_in_graph(\n\u001b[1;32m    258\u001b[0m         \u001b[38;5;28mself\u001b[39m,\n\u001b[1;32m    259\u001b[0m         \u001b[38;5;28mlist\u001b[39m(args),\n\u001b[1;32m    260\u001b[0m         \u001b[38;5;28mself\u001b[39m\u001b[38;5;241m.\u001b[39m_bound_context\u001b[38;5;241m.\u001b[39mfunction_call_options\u001b[38;5;241m.\u001b[39mas_attrs(),\n\u001b[1;32m    261\u001b[0m     )\n",
      "File \u001b[0;32m~/mestrado/lib/python3.12/site-packages/tensorflow/python/eager/context.py:1552\u001b[0m, in \u001b[0;36mContext.call_function\u001b[0;34m(self, name, tensor_inputs, num_outputs)\u001b[0m\n\u001b[1;32m   1550\u001b[0m cancellation_context \u001b[38;5;241m=\u001b[39m cancellation\u001b[38;5;241m.\u001b[39mcontext()\n\u001b[1;32m   1551\u001b[0m \u001b[38;5;28;01mif\u001b[39;00m cancellation_context \u001b[38;5;129;01mis\u001b[39;00m \u001b[38;5;28;01mNone\u001b[39;00m:\n\u001b[0;32m-> 1552\u001b[0m   outputs \u001b[38;5;241m=\u001b[39m \u001b[43mexecute\u001b[49m\u001b[38;5;241;43m.\u001b[39;49m\u001b[43mexecute\u001b[49m\u001b[43m(\u001b[49m\n\u001b[1;32m   1553\u001b[0m \u001b[43m      \u001b[49m\u001b[43mname\u001b[49m\u001b[38;5;241;43m.\u001b[39;49m\u001b[43mdecode\u001b[49m\u001b[43m(\u001b[49m\u001b[38;5;124;43m\"\u001b[39;49m\u001b[38;5;124;43mutf-8\u001b[39;49m\u001b[38;5;124;43m\"\u001b[39;49m\u001b[43m)\u001b[49m\u001b[43m,\u001b[49m\n\u001b[1;32m   1554\u001b[0m \u001b[43m      \u001b[49m\u001b[43mnum_outputs\u001b[49m\u001b[38;5;241;43m=\u001b[39;49m\u001b[43mnum_outputs\u001b[49m\u001b[43m,\u001b[49m\n\u001b[1;32m   1555\u001b[0m \u001b[43m      \u001b[49m\u001b[43minputs\u001b[49m\u001b[38;5;241;43m=\u001b[39;49m\u001b[43mtensor_inputs\u001b[49m\u001b[43m,\u001b[49m\n\u001b[1;32m   1556\u001b[0m \u001b[43m      \u001b[49m\u001b[43mattrs\u001b[49m\u001b[38;5;241;43m=\u001b[39;49m\u001b[43mattrs\u001b[49m\u001b[43m,\u001b[49m\n\u001b[1;32m   1557\u001b[0m \u001b[43m      \u001b[49m\u001b[43mctx\u001b[49m\u001b[38;5;241;43m=\u001b[39;49m\u001b[38;5;28;43mself\u001b[39;49m\u001b[43m,\u001b[49m\n\u001b[1;32m   1558\u001b[0m \u001b[43m  \u001b[49m\u001b[43m)\u001b[49m\n\u001b[1;32m   1559\u001b[0m \u001b[38;5;28;01melse\u001b[39;00m:\n\u001b[1;32m   1560\u001b[0m   outputs \u001b[38;5;241m=\u001b[39m execute\u001b[38;5;241m.\u001b[39mexecute_with_cancellation(\n\u001b[1;32m   1561\u001b[0m       name\u001b[38;5;241m.\u001b[39mdecode(\u001b[38;5;124m\"\u001b[39m\u001b[38;5;124mutf-8\u001b[39m\u001b[38;5;124m\"\u001b[39m),\n\u001b[1;32m   1562\u001b[0m       num_outputs\u001b[38;5;241m=\u001b[39mnum_outputs,\n\u001b[0;32m   (...)\u001b[0m\n\u001b[1;32m   1566\u001b[0m       cancellation_manager\u001b[38;5;241m=\u001b[39mcancellation_context,\n\u001b[1;32m   1567\u001b[0m   )\n",
      "File \u001b[0;32m~/mestrado/lib/python3.12/site-packages/tensorflow/python/eager/execute.py:53\u001b[0m, in \u001b[0;36mquick_execute\u001b[0;34m(op_name, num_outputs, inputs, attrs, ctx, name)\u001b[0m\n\u001b[1;32m     51\u001b[0m \u001b[38;5;28;01mtry\u001b[39;00m:\n\u001b[1;32m     52\u001b[0m   ctx\u001b[38;5;241m.\u001b[39mensure_initialized()\n\u001b[0;32m---> 53\u001b[0m   tensors \u001b[38;5;241m=\u001b[39m \u001b[43mpywrap_tfe\u001b[49m\u001b[38;5;241;43m.\u001b[39;49m\u001b[43mTFE_Py_Execute\u001b[49m\u001b[43m(\u001b[49m\u001b[43mctx\u001b[49m\u001b[38;5;241;43m.\u001b[39;49m\u001b[43m_handle\u001b[49m\u001b[43m,\u001b[49m\u001b[43m \u001b[49m\u001b[43mdevice_name\u001b[49m\u001b[43m,\u001b[49m\u001b[43m \u001b[49m\u001b[43mop_name\u001b[49m\u001b[43m,\u001b[49m\n\u001b[1;32m     54\u001b[0m \u001b[43m                                      \u001b[49m\u001b[43minputs\u001b[49m\u001b[43m,\u001b[49m\u001b[43m \u001b[49m\u001b[43mattrs\u001b[49m\u001b[43m,\u001b[49m\u001b[43m \u001b[49m\u001b[43mnum_outputs\u001b[49m\u001b[43m)\u001b[49m\n\u001b[1;32m     55\u001b[0m \u001b[38;5;28;01mexcept\u001b[39;00m core\u001b[38;5;241m.\u001b[39m_NotOkStatusException \u001b[38;5;28;01mas\u001b[39;00m e:\n\u001b[1;32m     56\u001b[0m   \u001b[38;5;28;01mif\u001b[39;00m name \u001b[38;5;129;01mis\u001b[39;00m \u001b[38;5;129;01mnot\u001b[39;00m \u001b[38;5;28;01mNone\u001b[39;00m:\n",
      "\u001b[0;31mKeyboardInterrupt\u001b[0m: "
     ]
    }
   ],
   "source": [
    "all_y_test_Deep = []\n",
    "all_y_pred_Deep = []\n",
    "vetMAEDeep = []\n",
    "vetR2Deep = []\n",
    "vetMSEDeep = []\n",
    "vetMdaeDeep = []\n",
    "vetPred25Deep = []\n",
    "\n",
    "\n",
    "\n",
    "# Cross-validation loop\n",
    "for train_index, test_index in kf.split(X):\n",
    "    x_train, test_x = X[train_index], X[test_index]\n",
    "    train_y, test_y = y[train_index], y[test_index]\n",
    "    \n",
    "    texts_train = x_train.astype(str)\n",
    "    texts_test = test_x.astype(str)\n",
    "\n",
    "    tokenizer = Tokenizer(num_words=MAX_LEN, char_level=False, lower=False) \n",
    "    tokenizer.fit_on_texts(texts_train)                            \n",
    "    encSequences = tokenizer.texts_to_sequences(texts_train)          \n",
    "    encSequences_test = tokenizer.texts_to_sequences(texts_test)      \n",
    "\n",
    "    vocab_size = len(tokenizer.word_index) + 1 \n",
    "    print('Vocab_size: ' + str(vocab_size))\n",
    "\n",
    "    MAX_SEQUENCE_LENGTH = 100  # Número de palavras em cada texto\n",
    "\n",
    "    x_train = pad_sequences(encSequences, maxlen=MAX_SEQUENCE_LENGTH, padding='post')\n",
    "    x_test = pad_sequences(encSequences_test, maxlen=MAX_SEQUENCE_LENGTH, padding='post')\n",
    "    print('Shape of data tensor:', x_train.shape)\n",
    "    print('Shape of data test tensor:', x_test.shape)\n",
    "\n",
    "    # Definindo o modelo\n",
    "    model = Sequential()\n",
    "\n",
    "    #embedding = Embedding(MAX_LEN, 300, input_length=MAX_SEQUENCE_LENGTH, trainable=True) #Using this for FastText\n",
    "    embedding = Embedding(MAX_LEN, 768, input_length=MAX_SEQUENCE_LENGTH, trainable=True) #Using this for XLNET\n",
    "    \n",
    "    embedding.build(input_shape=(None,))  # O input_shape é ajustado para (None,) para batch size variável\n",
    "    embedding.set_weights([embedding_mat])\n",
    "    model.add(embedding)\n",
    "    \n",
    "    model.add(AveragePooling1D(pool_size=100))\n",
    "    model.add(LSTM(50, dropout=0.3, recurrent_dropout=0.2, return_sequences=False)) \n",
    "    model.add(Dense(50, activation='relu'))\n",
    "    model.add(Dense(10, activation='relu')) \n",
    "    model.add(Dense(1, activation='linear'))\n",
    "\n",
    "    adam = Adam(learning_rate=0.001)  # O parâmetro epsilon é opcional\n",
    "    model.compile(loss='mse', optimizer=adam, metrics=['mae'])\n",
    "\n",
    "    model.summary()\n",
    "\n",
    "    es = EarlyStopping(monitor='val_mae', mode='min', verbose=1, patience=10, restore_best_weights=True)\n",
    "\n",
    "    model_history = model.fit(x_train, train_y,\n",
    "              batch_size=128,\n",
    "              epochs=30, callbacks=[es],\n",
    "              validation_data=(x_test, test_y))                \n",
    "\n",
    "    y_pred = model.predict(x_test)\n",
    "\n",
    "    # Armazenar os resultados\n",
    "    all_y_test_Deep.extend(test_y.flatten())\n",
    "    all_y_pred_Deep.extend(y_pred.flatten())\n",
    "\n",
    "    # Cálculo das métricas\n",
    "  \n",
    "    vetPred25Deep.append(pred_25)\n",
    "    \n",
    "    mae = mean_absolute_error(test_y, y_pred)\n",
    "    vetMAEDeep.append(mae)\n",
    "    medAE = median_absolute_error(test_y, y_pred)\n",
    "    vetMdaeDeep.append(medAE)\n",
    "    r2 = r2_score(test_y, y_pred)\n",
    "    vetR2Deep.append(r2)\n",
    "    mse = mean_squared_error(test_y, y_pred)\n",
    "    vetMSEDeep.append(mse)\n",
    "\n",
    "maeMedio = np.mean(vetMAEDeep)  \n",
    "madAEMedio = np.mean(vetMdaeDeep)  \n",
    "r2Medio = np.mean(vetR2Deep)  \n",
    "mseMedio = np.mean(vetMSEDeep) \n",
    "\n"
   ]
  },
  {
   "cell_type": "markdown",
   "metadata": {},
   "source": []
  },
  {
   "cell_type": "code",
   "execution_count": 47,
   "metadata": {},
   "outputs": [
    {
     "name": "stdout",
     "output_type": "stream",
     "text": [
      "MAE: 3.85 ± 0.16\n",
      "MSE: 78.33 ± 11.59\n",
      "R2: 0.22 ± 0.06\n",
      "MdAE: 1.99\n"
     ]
    }
   ],
   "source": [
    "# Formatar os resultados no formato \"média ± desvio padrão\"\n",
    "\n",
    "maeMedio = np.mean(vetMAEDeep)  \n",
    "madAEMedio = np.mean(vetMdaeDeep)  \n",
    "r2Medio = np.mean(vetR2Deep)  \n",
    "mseMedio = np.mean(vetMSEDeep) \n",
    "stdMae = np.std(vetMAEDeep)\n",
    "stdr2 = np.std(vetR2Deep)\n",
    "stdMse = np.std(vetMSEDeep)\n",
    "\n",
    "\n",
    "mae_result = f\"{maeMedio:.2f} ± {stdMae:.2f}\"\n",
    "mse_result = f\"{mseMedio:.2f} ± {stdMse:.2f}\"\n",
    "r2_result = f\"{r2Medio:.2f} ± {stdr2:.2f}\"\n",
    "mad_result = f\"{madAEMedio:.2f}\"  # Se você também quiser calcular o desvio padrão, pode adicionar aqui\n",
    "\n",
    "\n",
    "# Imprimir os resultados\n",
    "print('MAE:', mae_result)\n",
    "print('MSE:', mse_result)\n",
    "print('R2:', r2_result)\n",
    "print('MdAE:', mad_result)\n"
   ]
  },
  {
   "cell_type": "code",
   "execution_count": null,
   "metadata": {},
   "outputs": [],
   "source": []
  },
  {
   "cell_type": "code",
   "execution_count": 48,
   "metadata": {},
   "outputs": [
    {
     "data": {
      "image/png": "[encoded data removed]",
      "text/plain": [
       "<Figure size 640x480 with 1 Axes>"
      ]
     },
     "metadata": {},
     "output_type": "display_data"
    }
   ],
   "source": [
    "plt.plot(model_history.history['loss'])\n",
    "plt.plot(model_history.history['val_loss'])\n",
    "plt.title('model loss')\n",
    "plt.ylabel('loss')\n",
    "plt.xlabel('epoch')\n",
    "plt.legend(['train', 'validation'], loc='upper left')\n",
    "plt.show()"
   ]
  },
  {
   "cell_type": "code",
   "execution_count": 49,
   "metadata": {},
   "outputs": [],
   "source": [
    "import pickle\n",
    "with open(\"tokenizer.pkl\", \"wb\") as f:\n",
    "    pickle.dump(tokenizer, f)"
   ]
  },
  {
   "cell_type": "code",
   "execution_count": null,
   "metadata": {},
   "outputs": [
    {
     "data": {
      "text/plain": [
       "['../model/en/deep_learning_regressao.pkl']"
      ]
     },
     "execution_count": 13,
     "metadata": {},
     "output_type": "execute_result"
    }
   ],
   "source": [
    "import joblib\n",
    "file_name = '../model/pt/deep_learning_pt.pkl' #Documents/Mestrado/Mestrado/Artigo/codigo/model/en/deep_learning_regressao.pkl\n",
    "joblib.dump(model, file_name) "
   ]
  },
  {
   "cell_type": "code",
   "execution_count": 17,
   "metadata": {},
   "outputs": [],
   "source": [
    "import joblib\n",
    "model = joblib.load('../model/pt/deep_learning_pt.pkl')"
   ]
  },
  {
   "cell_type": "code",
   "execution_count": 18,
   "metadata": {},
   "outputs": [
    {
     "name": "stderr",
     "output_type": "stream",
     "text": [
      "WARNING:absl:You are saving your model as an HDF5 file via `model.save()` or `keras.saving.save_model(model)`. This file format is considered legacy. We recommend using instead the native Keras format, e.g. `model.save('my_model.keras')` or `keras.saving.save_model(model, 'my_model.keras')`. \n"
     ]
    }
   ],
   "source": [
    "model.save('model_deep_learning_regressao_pt.h5')"
   ]
  },
  {
   "cell_type": "markdown",
   "metadata": {},
   "source": [
    "### Realizando o teste estatístico Wilcoxon e Cohen com as bases de dados"
   ]
  },
  {
   "cell_type": "markdown",
   "metadata": {},
   "source": []
  },
  {
   "cell_type": "code",
   "execution_count": 2,
   "metadata": {},
   "outputs": [
    {
     "data": {
      "text/plain": [
       "[]"
      ]
     },
     "execution_count": 2,
     "metadata": {},
     "output_type": "execute_result"
    }
   ],
   "source": [
    "from __future__ import division, print_function\n",
    "from sklearn.datasets import fetch_20newsgroups\n",
    "import matplotlib.pyplot as plt\n",
    "import collections\n",
    "import nltk\n",
    "import numpy as np\n",
    "import os\n",
    "import logging\n",
    "# %matplotlib inline\n",
    "\n",
    "from glob import glob\n",
    "import pandas as pd\n",
    "# this cell is only for checking my data\n",
    "files = glob('*.csv')\n",
    "files"
   ]
  },
  {
   "cell_type": "markdown",
   "metadata": {},
   "source": [
    "### Pré-processamento da base de dados"
   ]
  },
  {
   "cell_type": "code",
   "execution_count": 9,
   "metadata": {},
   "outputs": [
    {
     "name": "stderr",
     "output_type": "stream",
     "text": [
      "<>:81: SyntaxWarning: invalid escape sequence '\\d'\n",
      "<>:84: SyntaxWarning: invalid escape sequence '\\s'\n",
      "<>:81: SyntaxWarning: invalid escape sequence '\\d'\n",
      "<>:84: SyntaxWarning: invalid escape sequence '\\s'\n",
      "/tmp/ipykernel_12457/3435723873.py:81: SyntaxWarning: invalid escape sequence '\\d'\n",
      "  new_df[\"description_withoutpun\"] = new_df[\"description_withoutpun\"].str.replace('\\d+', '')\n",
      "/tmp/ipykernel_12457/3435723873.py:84: SyntaxWarning: invalid escape sequence '\\s'\n",
      "  new_df[\"description_withoutpun\"]  = new_df[\"description_withoutpun\"] .str.replace('\\s{2,}', ' ')\n",
      "[nltk_data] Downloading package stopwords to /home/daniel/nltk_data...\n",
      "[nltk_data]   Package stopwords is already up-to-date!\n",
      "[nltk_data] Downloading package punkt to /home/daniel/nltk_data...\n",
      "[nltk_data]   Package punkt is already up-to-date!\n"
     ]
    }
   ],
   "source": [
    "import nltk  \n",
    "nltk.download('stopwords')\n",
    "nltk.download('punkt')\n",
    "\n",
    "import string\n",
    "import re\n",
    "def load_data(file_path):\n",
    "    new_df = pd.read_csv(file_path)\n",
    "    new_df.dropna(inplace=True)\n",
    "    new_df.head(100)\n",
    "    new_df[\"description\"]=new_df[\"title\"]+\" \"+ new_df[\"description\"] \n",
    "    new_df.head(100)\n",
    "    new_df.storypoint.value_counts()\n",
    "    new_df.storypoint.count()\n",
    "    new_df = pd.read_csv(file_path)\n",
    "    #just for testing\n",
    "    new_df.dropna(inplace=True)\n",
    "    new_df.head(100)\n",
    "    new_df.storypoint.value_counts()\n",
    "    new_df=new_df[new_df.storypoint != 40]\n",
    "    new_df=new_df[new_df.storypoint != 34]\n",
    "    new_df=new_df[new_df.storypoint != 9]\n",
    "    new_df.storypoint.value_counts()\n",
    "    new_df = pd.read_csv(file_path)\n",
    "    #just for testing\n",
    "    new_df.dropna(inplace=True)\n",
    "    new_df.head(100)\n",
    "    new_df[\"description\"]=new_df[\"title\"]+\" \"+ new_df[\"description\"] \n",
    "    new_df.head(100)\n",
    "\n",
    "    #new_df[\"description\"]\n",
    "    #test_df\n",
    "    new_df.storypoint.value_counts()\n",
    "    new_df=new_df[new_df.storypoint != 9]\n",
    "    new_df=new_df[new_df.storypoint != 34]\n",
    "    new_df.storypoint.value_counts()\n",
    "    #new_df[\"description\"].head(1)\n",
    "\n",
    "    new_df.storypoint.count()\n",
    "\n",
    "    new_df = new_df.sample(3700, replace=True)\n",
    "\n",
    "    new_df.storypoint.value_counts()\n",
    "\n",
    "    ##Functions\n",
    "    def remove_punct(text):\n",
    "\n",
    "\n",
    "        regex = re.compile('[%s]' % re.escape(string.punctuation))\n",
    "        text = regex.sub(' ', text)\n",
    "    #     text = \"\".join([char for char in text if char not in string.punctuation])\n",
    "        return text\n",
    "    TAG_RE = re.compile(r'<[^>]+>')\n",
    "\n",
    "    def remove_tags(text):\n",
    "        return TAG_RE.sub('', text)\n",
    "\n",
    "    def remove_html(text):\n",
    "        return re.sub(r'{[^}]+}', \"\", text)\n",
    "\n",
    "    def remove_URL(text):\n",
    "    # \"\"\"Remove URLs from a text string\"\"\"\n",
    "    #   return re.sub(r\"http\\S+\", \"\", text)\n",
    "        #return re.sub(r'^https?:\\/\\/.*[\\r\\n]*', \"\", text)\n",
    "        return re.sub(r'http://\\S+|https://\\S+', \"\", text)\n",
    "    #r'^https?:\\/\\/.*[\\r\\n]*'\n",
    "\n",
    "    new_df[\"description_withoutpun\"] = new_df[\"description\"].dropna().apply(lambda x: remove_URL(x))\n",
    "    new_df[\"description_withoutpun\"] = new_df[\"description_withoutpun\"].dropna().apply(lambda x: remove_tags(x))\n",
    "\n",
    "    new_df[\"description_withoutpun\"] = new_df[\"description_withoutpun\"].dropna().apply(lambda x: remove_html(x))\n",
    "    new_df[\"description_withoutpun\"] = new_df[\"description_withoutpun\"].dropna().apply(lambda x: remove_punct(x))\n",
    "    new_df[\"description_withoutpun\"]=new_df[\"description_withoutpun\"].str.lower()\n",
    "\n",
    "    from nltk.corpus import stopwords #lambda x: [item for item in string.split(x) if item not in stop]\n",
    "    stop = stopwords.words('english')\n",
    "    new_df[\"description_withoutpun\"]=new_df[\"description_withoutpun\"].str.split(' ').apply(lambda x: ' '.join(k for k in x if k not in stop))\n",
    "    new_df[\"description_withoutpun\"]\n",
    "    # this part is for removing numbers and replacing them with space\n",
    "    #df.Name = df.Name.str.replace('\\d+', '')\n",
    "    new_df[\"description_withoutpun\"] = new_df[\"description_withoutpun\"].str.replace('\\d+', '')\n",
    "    new_df[\"description_withoutpun\"]\n",
    "    # this part is for removing extra spaces\n",
    "    new_df[\"description_withoutpun\"]  = new_df[\"description_withoutpun\"] .str.replace('\\s{2,}', ' ')\n",
    "    new_df[\"description_withoutpun\"] \n",
    "    \n",
    "    text = ' '.join(new_df[\"description_withoutpun\"] )\n",
    "    text = text.split()\n",
    "    freq_comm = pd.Series(text).value_counts()\n",
    "    rare = freq_comm[freq_comm.values <= 3]\n",
    "    rare\n",
    "    def remove_rare(x):\n",
    "        x = ' '.join([t for t in x.split() if t not in rare])\n",
    "        return x\n",
    "    #rare\n",
    "    #new_df[\"description_withoutpun\"]  = new_df[\"description_withoutpun\"].apply(lambda x: remove_rare(x))   \n",
    "    new_df[\"description_withoutpun\"]\n",
    "\n",
    "    #new_df[\"description_withoutpun\"]\n",
    "\n",
    "    X_data = new_df[\"description_withoutpun\"].values\n",
    "\n",
    "    Y_data = new_df[\"storypoint\"].values\n",
    "    X_data = np.array(X_data)\n",
    "\n",
    "    return X_data, Y_data"
   ]
  },
  {
   "cell_type": "code",
   "execution_count": 24,
   "metadata": {},
   "outputs": [],
   "source": [
    "data_sources = {\n",
    "    'Apache Mesos': '../data/dataset/mesos.csv',\n",
    "    'Apache Usergrid': '../data/dataset/usergrid.csv',\n",
    "    'Appcelerator Studio': '../data/dataset/appceleratorstudio.csv',\n",
    "    'Aptana Studio': '../data/dataset/aptanastudio.csv',\n",
    "    'Titanum': '../data/dataset/titanium.csv',\n",
    "    'DuraCloud': '../data/dataset/duracloud.csv',\n",
    "    'Bamboo':'../data/dataset/bamboo.csv',\n",
    "    'JIRA Software': '../data/dataset/jirasoftware.csv',\n",
    "    'Moodle': '../data/dataset/moodle.csv',\n",
    "    'Data Management': '../data/dataset/datamanagement.csv',\n",
    "    'Mule': '../data/dataset/mule.csv',\n",
    "    'Mule Studio': '../data/dataset/mulestudio.csv',\n",
    "    'Spring XD': '../data/dataset/springxd.csv',\n",
    "    'Talend Data Quality': '../data/dataset/talenddataquality.csv',\n",
    "    'Talend': '../data/dataset/talendesb.csv',\n",
    "    'Clover': '../data/dataset/clover.csv'\n",
    "    \n",
    "}"
   ]
  },
  {
   "cell_type": "code",
   "execution_count": 5,
   "metadata": {},
   "outputs": [],
   "source": [
    "import pickle\n",
    "with open(\"tokenizer.pkl\", \"rb\") as f:\n",
    "    tokenizer = pickle.load(f)"
   ]
  },
  {
   "cell_type": "code",
   "execution_count": 6,
   "metadata": {},
   "outputs": [
    {
     "name": "stderr",
     "output_type": "stream",
     "text": [
      "WARNING: All log messages before absl::InitializeLog() is called are written to STDERR\n",
      "I0000 00:00:1747093257.840488   12457 cuda_executor.cc:1015] successful NUMA node read from SysFS had negative value (-1), but there must be at least one NUMA node, so returning NUMA node zero. See more at https://github.com/torvalds/linux/blob/v6.0/Documentation/ABI/testing/sysfs-bus-pci#L344-L355\n",
      "I0000 00:00:1747093257.901531   12457 cuda_executor.cc:1015] successful NUMA node read from SysFS had negative value (-1), but there must be at least one NUMA node, so returning NUMA node zero. See more at https://github.com/torvalds/linux/blob/v6.0/Documentation/ABI/testing/sysfs-bus-pci#L344-L355\n",
      "I0000 00:00:1747093257.901913   12457 cuda_executor.cc:1015] successful NUMA node read from SysFS had negative value (-1), but there must be at least one NUMA node, so returning NUMA node zero. See more at https://github.com/torvalds/linux/blob/v6.0/Documentation/ABI/testing/sysfs-bus-pci#L344-L355\n",
      "I0000 00:00:1747093257.904050   12457 cuda_executor.cc:1015] successful NUMA node read from SysFS had negative value (-1), but there must be at least one NUMA node, so returning NUMA node zero. See more at https://github.com/torvalds/linux/blob/v6.0/Documentation/ABI/testing/sysfs-bus-pci#L344-L355\n",
      "I0000 00:00:1747093257.904367   12457 cuda_executor.cc:1015] successful NUMA node read from SysFS had negative value (-1), but there must be at least one NUMA node, so returning NUMA node zero. See more at https://github.com/torvalds/linux/blob/v6.0/Documentation/ABI/testing/sysfs-bus-pci#L344-L355\n",
      "I0000 00:00:1747093257.904572   12457 cuda_executor.cc:1015] successful NUMA node read from SysFS had negative value (-1), but there must be at least one NUMA node, so returning NUMA node zero. See more at https://github.com/torvalds/linux/blob/v6.0/Documentation/ABI/testing/sysfs-bus-pci#L344-L355\n",
      "I0000 00:00:1747093257.989373   12457 cuda_executor.cc:1015] successful NUMA node read from SysFS had negative value (-1), but there must be at least one NUMA node, so returning NUMA node zero. See more at https://github.com/torvalds/linux/blob/v6.0/Documentation/ABI/testing/sysfs-bus-pci#L344-L355\n",
      "I0000 00:00:1747093257.989725   12457 cuda_executor.cc:1015] successful NUMA node read from SysFS had negative value (-1), but there must be at least one NUMA node, so returning NUMA node zero. See more at https://github.com/torvalds/linux/blob/v6.0/Documentation/ABI/testing/sysfs-bus-pci#L344-L355\n",
      "I0000 00:00:1747093257.990006   12457 cuda_executor.cc:1015] successful NUMA node read from SysFS had negative value (-1), but there must be at least one NUMA node, so returning NUMA node zero. See more at https://github.com/torvalds/linux/blob/v6.0/Documentation/ABI/testing/sysfs-bus-pci#L344-L355\n",
      "2025-05-12 20:40:57.990212: I tensorflow/core/common_runtime/gpu/gpu_device.cc:2021] Created device /job:localhost/replica:0/task:0/device:GPU:0 with 1159 MB memory:  -> device: 0, name: NVIDIA GeForce RTX 3070 Laptop GPU, pci bus id: 0000:01:00.0, compute capability: 8.6\n"
     ]
    }
   ],
   "source": [
    "import joblib\n",
    "model = joblib.load('/home/daniel/Documents/Mestrado/Mestrado/Artigo/codigo/ESApp_article/model_english_v1_05_25.pkl')"
   ]
  },
  {
   "cell_type": "code",
   "execution_count": 10,
   "metadata": {},
   "outputs": [],
   "source": [
    "def avaliar_nova_base(data,y_true, model, tokenizer):\n",
    "    \n",
    "    texts = data\n",
    "   \n",
    "    \n",
    "    sequences = tokenizer.texts_to_sequences(texts)\n",
    "    X_new = pad_sequences(sequences, maxlen=100, padding='post')\n",
    "\n",
    "    y_pred = model.predict(X_new).flatten()\n",
    "\n",
    "    mae = mean_absolute_error(y_true, y_pred)\n",
    "    mdae = median_absolute_error(y_true, y_pred)\n",
    "    mse = mean_squared_error(y_true, y_pred)\n",
    "    r2 = r2_score(y_true, y_pred)\n",
    "\n",
    "\n",
    "    return {\n",
    "        \"MAE\": mae,\n",
    "        \"MdAE\": mdae,\n",
    "        \"MSE\": mse,\n",
    "        \"R2\": r2\n",
    "    }"
   ]
  },
  {
   "cell_type": "code",
   "execution_count": 25,
   "metadata": {},
   "outputs": [],
   "source": [
    "estimativas = {}"
   ]
  },
  {
   "cell_type": "code",
   "execution_count": 26,
   "metadata": {},
   "outputs": [
    {
     "name": "stdout",
     "output_type": "stream",
     "text": [
      "../data/dataset/mesos.csv\n",
      "\u001b[1m116/116\u001b[0m \u001b[32m━━━━━━━━━━━━━━━━━━━━\u001b[0m\u001b[37m\u001b[0m \u001b[1m0s\u001b[0m 3ms/step\n",
      "../data/dataset/usergrid.csv\n",
      "\u001b[1m116/116\u001b[0m \u001b[32m━━━━━━━━━━━━━━━━━━━━\u001b[0m\u001b[37m\u001b[0m \u001b[1m0s\u001b[0m 3ms/step\n",
      "../data/dataset/appceleratorstudio.csv\n",
      "\u001b[1m116/116\u001b[0m \u001b[32m━━━━━━━━━━━━━━━━━━━━\u001b[0m\u001b[37m\u001b[0m \u001b[1m0s\u001b[0m 3ms/step\n",
      "../data/dataset/aptanastudio.csv\n",
      "\u001b[1m116/116\u001b[0m \u001b[32m━━━━━━━━━━━━━━━━━━━━\u001b[0m\u001b[37m\u001b[0m \u001b[1m0s\u001b[0m 3ms/step\n",
      "../data/dataset/titanium.csv\n",
      "\u001b[1m116/116\u001b[0m \u001b[32m━━━━━━━━━━━━━━━━━━━━\u001b[0m\u001b[37m\u001b[0m \u001b[1m0s\u001b[0m 3ms/step\n",
      "../data/dataset/duracloud.csv\n",
      "\u001b[1m116/116\u001b[0m \u001b[32m━━━━━━━━━━━━━━━━━━━━\u001b[0m\u001b[37m\u001b[0m \u001b[1m0s\u001b[0m 3ms/step\n",
      "../data/dataset/bamboo.csv\n",
      "\u001b[1m116/116\u001b[0m \u001b[32m━━━━━━━━━━━━━━━━━━━━\u001b[0m\u001b[37m\u001b[0m \u001b[1m0s\u001b[0m 3ms/step\n",
      "../data/dataset/jirasoftware.csv\n",
      "\u001b[1m116/116\u001b[0m \u001b[32m━━━━━━━━━━━━━━━━━━━━\u001b[0m\u001b[37m\u001b[0m \u001b[1m0s\u001b[0m 3ms/step\n",
      "../data/dataset/moodle.csv\n",
      "\u001b[1m116/116\u001b[0m \u001b[32m━━━━━━━━━━━━━━━━━━━━\u001b[0m\u001b[37m\u001b[0m \u001b[1m0s\u001b[0m 3ms/step\n",
      "../data/dataset/datamanagement.csv\n",
      "\u001b[1m116/116\u001b[0m \u001b[32m━━━━━━━━━━━━━━━━━━━━\u001b[0m\u001b[37m\u001b[0m \u001b[1m0s\u001b[0m 3ms/step\n",
      "../data/dataset/mule.csv\n",
      "\u001b[1m116/116\u001b[0m \u001b[32m━━━━━━━━━━━━━━━━━━━━\u001b[0m\u001b[37m\u001b[0m \u001b[1m0s\u001b[0m 4ms/step\n",
      "../data/dataset/mulestudio.csv\n",
      "\u001b[1m116/116\u001b[0m \u001b[32m━━━━━━━━━━━━━━━━━━━━\u001b[0m\u001b[37m\u001b[0m \u001b[1m0s\u001b[0m 4ms/step\n",
      "../data/dataset/springxd.csv\n",
      "\u001b[1m116/116\u001b[0m \u001b[32m━━━━━━━━━━━━━━━━━━━━\u001b[0m\u001b[37m\u001b[0m \u001b[1m0s\u001b[0m 3ms/step\n",
      "../data/dataset/talenddataquality.csv\n",
      "\u001b[1m116/116\u001b[0m \u001b[32m━━━━━━━━━━━━━━━━━━━━\u001b[0m\u001b[37m\u001b[0m \u001b[1m0s\u001b[0m 4ms/step\n",
      "../data/dataset/talendesb.csv\n",
      "\u001b[1m116/116\u001b[0m \u001b[32m━━━━━━━━━━━━━━━━━━━━\u001b[0m\u001b[37m\u001b[0m \u001b[1m0s\u001b[0m 3ms/step\n",
      "../data/dataset/clover.csv\n",
      "\u001b[1m116/116\u001b[0m \u001b[32m━━━━━━━━━━━━━━━━━━━━\u001b[0m\u001b[37m\u001b[0m \u001b[1m0s\u001b[0m 3ms/step\n"
     ]
    }
   ],
   "source": [
    "for project, file_path in data_sources.items():\n",
    "    print(file_path)\n",
    "    X_data,Y_data = load_data(file_path)\n",
    "    metricas =  avaliar_nova_base(X_data,Y_data, model, tokenizer)\n",
    "    estimativas[project] = metricas"
   ]
  },
  {
   "cell_type": "code",
   "execution_count": 27,
   "metadata": {},
   "outputs": [
    {
     "data": {
      "text/plain": [
       "{'Apache Mesos': {'MAE': 1.618218715835262,\n",
       "  'MdAE': 1.2604748010635376,\n",
       "  'MSE': 6.5794228360129345,\n",
       "  'R2': -0.020679712295532227},\n",
       " 'Apache Usergrid': {'MAE': 1.176567384487874,\n",
       "  'MdAE': 0.9065985679626465,\n",
       "  'MSE': 3.1693336512702293,\n",
       "  'R2': -0.5166821479797363},\n",
       " 'Appcelerator Studio': {'MAE': 2.5818468374819368,\n",
       "  'MdAE': 1.972935676574707,\n",
       "  'MSE': 13.79511592403049,\n",
       "  'R2': -0.33519113063812256},\n",
       " 'Aptana Studio': {'MAE': 4.358945549694267,\n",
       "  'MdAE': 3.085700035095215,\n",
       "  'MSE': 39.14828963679353,\n",
       "  'R2': -0.00453639030456543},\n",
       " 'Titanum': {'MAE': 3.07921023278623,\n",
       "  'MdAE': 1.9314908981323242,\n",
       "  'MSE': 25.25453245541722,\n",
       "  'R2': -0.21721839904785156},\n",
       " 'DuraCloud': {'MAE': 1.6658282682702348,\n",
       "  'MdAE': 1.7422850131988525,\n",
       "  'MSE': 4.559271220788157,\n",
       "  'R2': -0.1504591703414917},\n",
       " 'Bamboo': {'MAE': 1.7594128124778334,\n",
       "  'MdAE': 1.7132561206817627,\n",
       "  'MSE': 5.581947325249702,\n",
       "  'R2': -0.4020099639892578},\n",
       " 'JIRA Software': {'MAE': 2.503870531159478,\n",
       "  'MdAE': 1.7540509700775146,\n",
       "  'MSE': 15.347369145245064,\n",
       "  'R2': -0.13714051246643066},\n",
       " 'Moodle': {'MAE': 7.855242125472507,\n",
       "  'MdAE': 3.6310043334960938,\n",
       "  'MSE': 195.59207626219757,\n",
       "  'R2': 0.5491580367088318},\n",
       " 'Data Management': {'MAE': 5.5684540390968325,\n",
       "  'MdAE': 2.4448893070220947,\n",
       "  'MSE': 124.3302631870493,\n",
       "  'R2': 0.5815281867980957},\n",
       " 'Mule': {'MAE': 2.8967092081018397,\n",
       "  'MdAE': 2.0950703620910645,\n",
       "  'MSE': 15.330196534991222,\n",
       "  'R2': -0.21489834785461426},\n",
       " 'Mule Studio': {'MAE': 3.2565240051295308,\n",
       "  'MdAE': 2.065899610519409,\n",
       "  'MSE': 22.383838229225855,\n",
       "  'R2': -0.26873481273651123},\n",
       " 'Spring XD': {'MAE': 1.9588355998090796,\n",
       "  'MdAE': 1.7159167528152466,\n",
       "  'MSE': 8.355563086875383,\n",
       "  'R2': 0.029709339141845703},\n",
       " 'Talend Data Quality': {'MAE': 3.3757655164357776,\n",
       "  'MdAE': 2.0594688653945923,\n",
       "  'MSE': 25.803323629034395,\n",
       "  'R2': 0.013605296611785889},\n",
       " 'Talend': {'MAE': 1.3797103299321356,\n",
       "  'MdAE': 1.4738390445709229,\n",
       "  'MSE': 3.096812569694734,\n",
       "  'R2': -0.30156588554382324},\n",
       " 'Clover': {'MAE': 3.052259849019953,\n",
       "  'MdAE': 1.9144682884216309,\n",
       "  'MSE': 28.56535546021538,\n",
       "  'R2': 0.3421390652656555}}"
      ]
     },
     "execution_count": 27,
     "metadata": {},
     "output_type": "execute_result"
    }
   ],
   "source": [
    "estimativas"
   ]
  },
  {
   "cell_type": "markdown",
   "metadata": {},
   "source": [
    "### Executando teste Wilcoxon e Cohren comparando BERT, HAN e ESApp"
   ]
  },
  {
   "cell_type": "code",
   "execution_count": null,
   "metadata": {},
   "outputs": [],
   "source": [
    "import scipy.stats as stats\n",
    "import numpy as np\n",
    "\n",
    "# MAEs ESApp\n",
    "esapp_mae = [\n",
    "    1.618218715835262,   # Apache Mesos\n",
    "    1.176567384487874,   # Apache Usergrid\n",
    "    2.5818468374819368,  # Appcelerator Studio\n",
    "    4.358945549694267,   # Aptana Studio\n",
    "    3.07921023278623,    # Titanum\n",
    "    1.6658282682702348,  # DuraCloud\n",
    "    1.7594128124778334,  # Bamboo\n",
    "    2.503870531159478,   # JIRA Software\n",
    "    7.855242125472507,   # Moodle   \n",
    "    5.5684540390968325,  # Data Management\n",
    "    2.8967092081018397,  # Mule\n",
    "    3.2565240051295308,  # Mule Studio\n",
    "    1.9588355998090796,  # Spring XD\n",
    "    3.3757655164357776,  # Talend Data Quality\n",
    "    1.3797103299321356,  # Talend\n",
    "    3.052259849019953    # Clover\n",
    "]\n",
    "\n",
    "# extraidos dos trabalhos relacionados\n",
    "han_mae = [\n",
    "    0.93, 0.84, 1.35, 2.63, 1.70, 0.49, 0.67, 1.27,\n",
    "    5.66, 3.63, 1.86, 2.56, 1.20, 2.49, 0.60, 1.81\n",
    "]\n",
    "\n",
    "bert_mae = [\n",
    "    3.39, 3.24, 2.50, 4.18, 3.49, 3.79, 2.76, 3.13,\n",
    "    11.99, 7.78, 3.51, 3.51, 3.16, 4.04, 3.42, 3.87\n",
    "]"
   ]
  },
  {
   "cell_type": "code",
   "execution_count": 7,
   "metadata": {},
   "outputs": [],
   "source": [
    "#Grafico\n",
    "projects = [\n",
    "    \"Apache Mesos\",\n",
    "    \"Apache Usergrid\",\n",
    "    \"Appcelerator Studio\",\n",
    "    \"Aptana Studio\",\n",
    "    \"Titanum\",\n",
    "    \"DuraCloud\",\n",
    "    \"Bamboo\",\n",
    "    \"Clover\",\n",
    "    \"JIRA Software\",\n",
    "    \"Moodle\",\n",
    "    \"Data Management\",\n",
    "    \"Mule\",\n",
    "    \"Mule Studio\",\n",
    "    \"Spring XD\",\n",
    "    \"Talend Data Quality\",\n",
    "    \"Talend\"\n",
    "]\n",
    "data_mae = {\n",
    "    'Project': projects,\n",
    "    'XLNET': esapp_mae,  # Lista de MAEs para ESApp\n",
    "    'HAN': han_mae,    # Lista de MAEs para HAN\n",
    "    'BERT': bert_mae   # Lista de MAEs para BERT\n",
    "}"
   ]
  },
  {
   "cell_type": "code",
   "execution_count": null,
   "metadata": {},
   "outputs": [
    {
     "data": {
      "image/png": "[encoded data removed]",
      "text/plain": [
       "<Figure size 800x500 with 1 Axes>"
      ]
     },
     "metadata": {},
     "output_type": "display_data"
    }
   ],
   "source": [
    "df = pd.DataFrame(data_mae)\n",
    "df_melted = df.melt(id_vars='Project', var_name='Modelo', value_name='MAE')\n",
    "df_melted = df.melt(id_vars='Project', var_name='Modelo', value_name='MAE')\n",
    "df_melted = df.melt(id_vars='Project', var_name='Modelo', value_name='MAE')\n",
    "\n",
    "# Boxplot\n",
    "plt.figure(figsize=(8, 5))\n",
    "sns.boxplot(data=df_melted, x='Modelo', y='MAE')\n",
    "plt.title('Comparação de MAE entre os métodos')\n",
    "plt.show()"
   ]
  },
  {
   "cell_type": "code",
   "execution_count": 31,
   "metadata": {},
   "outputs": [
    {
     "name": "stdout",
     "output_type": "stream",
     "text": [
      "Wilcoxon ESApp vs HAN: WilcoxonResult(statistic=0.0, pvalue=3.0517578125e-05)\n",
      "Wilcoxon ESApp vs BERT: WilcoxonResult(statistic=3.0, pvalue=0.000152587890625)\n"
     ]
    }
   ],
   "source": [
    "# Wilcoxon ESApp vs HAN\n",
    "wilcoxon_esapp_han = stats.wilcoxon(esapp_mae, han_mae)\n",
    "# Wilcoxon ESApp vs BERT\n",
    "wilcoxon_esapp_bert = stats.wilcoxon(esapp_mae, bert_mae)\n",
    "\n",
    "print(\"Wilcoxon ESApp vs HAN:\", wilcoxon_esapp_han)\n",
    "print(\"Wilcoxon ESApp vs BERT:\", wilcoxon_esapp_bert)\n"
   ]
  },
  {
   "cell_type": "code",
   "execution_count": 32,
   "metadata": {},
   "outputs": [
    {
     "name": "stdout",
     "output_type": "stream",
     "text": [
      "Cohen's d ESApp vs HAN: 0.743057935793287\n",
      "Cohen's d ESApp vs BERT: 0.5916908722886237\n"
     ]
    }
   ],
   "source": [
    "def cohens_d(x, y):\n",
    "    x = np.array(x)\n",
    "    y = np.array(y)\n",
    "    nx, ny = len(x), len(y)\n",
    "    pooled_std = np.sqrt(((nx - 1)*x.std(ddof=1)**2 + (ny - 1)*y.std(ddof=1)**2) / (nx + ny - 2))\n",
    "    return abs(x.mean() - y.mean()) / pooled_std\n",
    "\n",
    "d_esapp_han = cohens_d(esapp_mae, han_mae)\n",
    "d_esapp_bert = cohens_d(esapp_mae, bert_mae)\n",
    "\n",
    "print(\"Cohen's d ESApp vs HAN:\", d_esapp_han)\n",
    "print(\"Cohen's d ESApp vs BERT:\", d_esapp_bert)\n"
   ]
  },
  {
   "cell_type": "code",
   "execution_count": null,
   "metadata": {},
   "outputs": [
    {
     "data": {
      "image/png": "[encoded data removed]",
      "text/plain": [
       "<Figure size 640x480 with 1 Axes>"
      ]
     },
     "metadata": {},
     "output_type": "display_data"
    }
   ],
   "source": [
    "#grafico Cohen\n",
    "import matplotlib.pyplot as plt\n",
    "\n",
    "methods = ['XLNET vs HAN', 'XLNET vs BERT']\n",
    "cohen_d = [0.74, 0.59] #valores \n",
    "\n",
    "plt.bar(methods, cohen_d, color='skyblue')\n",
    "plt.axhline(0.8, color='red', linestyle='--', label='Limite (grande efeito)')\n",
    "plt.ylabel(\"Cohen's d\")\n",
    "plt.title(\"Tamanho de Efeito de Cohen's d entre os Métodos\")\n",
    "plt.legend()\n",
    "plt.ylim(0, 1.2)\n",
    "plt.show()"
   ]
  },
  {
   "cell_type": "code",
   "execution_count": null,
   "metadata": {},
   "outputs": [],
   "source": []
  },
  {
   "cell_type": "code",
   "execution_count": null,
   "metadata": {},
   "outputs": [
    {
     "data": {
      "image/png": "[encoded data removed]",
      "text/plain": [
       "<Figure size 600x600 with 1 Axes>"
      ]
     },
     "metadata": {},
     "output_type": "display_data"
    }
   ],
   "source": [
    "import matplotlib.pyplot as plt\n",
    "import pandas as pd\n",
    "\n",
    "\n",
    "\n",
    "# Converta as colunas para float (forçando erro se não for possível)\n",
    "df['HAN'] = pd.to_numeric(df['HAN'], errors='coerce')\n",
    "df['ESApp'] = pd.to_numeric(df['ESApp'], errors='coerce')\n",
    "\n",
    "\n",
    "df.dropna(subset=['HAN', 'ESApp'], inplace=True)\n",
    "\n",
    "#gráfico de dispersão\n",
    "plt.figure(figsize=(6, 6))\n",
    "plt.scatter(df['HAN'], df['ESApp'], label='Projetos', color='green')\n",
    "\n",
    "#Linha de igualdade (x = y)\n",
    "min_val = min(df['HAN'].min(), df['ESApp'].min())\n",
    "max_val = max(df['HAN'].max(), df['ESApp'].max())\n",
    "plt.plot([min_val, max_val], [min_val, max_val], 'r--', label='Igualdade')\n",
    "\n",
    "plt.xlabel('HAN MAE')\n",
    "plt.ylabel('ESApp MAE')\n",
    "plt.title('Comparação entre HAN e ESApp por projeto')\n",
    "plt.legend()\n",
    "plt.grid(True)\n",
    "plt.tight_layout()\n",
    "plt.show()\n"
   ]
  },
  {
   "cell_type": "code",
   "execution_count": null,
   "metadata": {},
   "outputs": [],
   "source": []
  }
 ],
 "metadata": {
  "kernelspec": {
   "display_name": "mestrado",
   "language": "python",
   "name": "python3"
  },
  "language_info": {
   "codemirror_mode": {
    "name": "ipython",
    "version": 3
   },
   "file_extension": ".py",
   "mimetype": "text/x-python",
   "name": "python",
   "nbconvert_exporter": "python",
   "pygments_lexer": "ipython3",
   "version": "3.12.3"
  }
 },
 "nbformat": 4,
 "nbformat_minor": 2
}
